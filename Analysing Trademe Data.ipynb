{
 "cells": [
  {
   "cell_type": "markdown",
   "metadata": {},
   "source": [
    "# Analysing Trademe Data"
   ]
  },
  {
   "cell_type": "markdown",
   "metadata": {},
   "source": [
    "Now that I've scraped all of the trademe data, I can now analyse it to decide where I want to move."
   ]
  },
  {
   "cell_type": "code",
   "execution_count": 1,
   "metadata": {
    "collapsed": true
   },
   "outputs": [],
   "source": [
    "import pandas as pd\n",
    "import numpy as np\n",
    "import os\n",
    "import re\n",
    "import matplotlib\n",
    "import matplotlib.pyplot as plt\n",
    "%matplotlib inline\n",
    "import seaborn; seaborn.set()"
   ]
  },
  {
   "cell_type": "code",
   "execution_count": 2,
   "metadata": {
    "collapsed": false
   },
   "outputs": [
    {
     "data": {
      "text/plain": [
       "['.ipynb_checkpoints',\n",
       " '13282122_10207629174504871_1516068341_n.jpg',\n",
       " 'all_rentals_29-01-2017.pkl',\n",
       " 'Analysing Trademe Data.ipynb',\n",
       " 'dist.png',\n",
       " 'Email Template.txt',\n",
       " 'output.txt',\n",
       " 'Rental Details.ods',\n",
       " 'rentals.pkl',\n",
       " 'rentals_01-02-2017.pkl',\n",
       " 'rentals_02-02-2017.pkl',\n",
       " 'rentals_06-02-2017.pkl',\n",
       " 'rentals_08-02-2017.pkl',\n",
       " 'rentals_14-01-2017.pkl',\n",
       " 'rentals_16-01-2017.pkl',\n",
       " 'rentals_24-01-2017.pkl',\n",
       " 'rentals_26-01-2017.pkl',\n",
       " 'rentals_27-01-2017.pkl',\n",
       " 'rentals_28-01-2017.pkl',\n",
       " 'rentals_29-01-2017.pkl',\n",
       " 'rentals_30-01-2017.pkl',\n",
       " 'rentals_31-01-2017.pkl',\n",
       " 'results_dict.pkl',\n",
       " 'trademe_scraper.py',\n",
       " 'Web Scraping Trade Me.ipynb',\n",
       " 'wellington_rentals.csv']"
      ]
     },
     "execution_count": 2,
     "metadata": {},
     "output_type": "execute_result"
    }
   ],
   "source": [
    "dirlist = os.listdir(os.getcwd())\n",
    "dirlist"
   ]
  },
  {
   "cell_type": "code",
   "execution_count": 3,
   "metadata": {
    "collapsed": false
   },
   "outputs": [
    {
     "name": "stdout",
     "output_type": "stream",
     "text": [
      "['all_rentals_29-01-2017.pkl', 'rentals_01-02-2017.pkl', 'rentals_02-02-2017.pkl', 'rentals_06-02-2017.pkl', 'rentals_08-02-2017.pkl', 'rentals_14-01-2017.pkl', 'rentals_16-01-2017.pkl', 'rentals_24-01-2017.pkl', 'rentals_26-01-2017.pkl', 'rentals_27-01-2017.pkl', 'rentals_28-01-2017.pkl', 'rentals_29-01-2017.pkl', 'rentals_30-01-2017.pkl', 'rentals_31-01-2017.pkl']\n"
     ]
    }
   ],
   "source": [
    "rental_files = [f for f in dirlist if re.search(\"rentals_\\d{2}-\\d{2}-\\d{4}.pkl\", f) != None]\n",
    "print(rental_files)"
   ]
  },
  {
   "cell_type": "code",
   "execution_count": 4,
   "metadata": {
    "collapsed": false
   },
   "outputs": [],
   "source": [
    "rental_dicts = {}\n",
    "import pickle\n",
    "for filename in rental_files:\n",
    "    with open(filename, 'r') as f:\n",
    "        rental_dicts[filename] = pickle.load(f)\n",
    "        f.close()"
   ]
  },
  {
   "cell_type": "code",
   "execution_count": 5,
   "metadata": {
    "collapsed": false,
    "scrolled": true
   },
   "outputs": [
    {
     "data": {
      "text/plain": [
       "['all_rentals_29-01-2017.pkl',\n",
       " 'rentals_01-02-2017.pkl',\n",
       " 'rentals_02-02-2017.pkl',\n",
       " 'rentals_06-02-2017.pkl',\n",
       " 'rentals_08-02-2017.pkl',\n",
       " 'rentals_14-01-2017.pkl',\n",
       " 'rentals_16-01-2017.pkl',\n",
       " 'rentals_24-01-2017.pkl',\n",
       " 'rentals_26-01-2017.pkl',\n",
       " 'rentals_27-01-2017.pkl',\n",
       " 'rentals_28-01-2017.pkl',\n",
       " 'rentals_29-01-2017.pkl',\n",
       " 'rentals_30-01-2017.pkl',\n",
       " 'rentals_31-01-2017.pkl']"
      ]
     },
     "execution_count": 5,
     "metadata": {},
     "output_type": "execute_result"
    }
   ],
   "source": [
    "sorted(rental_dicts.keys())"
   ]
  },
  {
   "cell_type": "code",
   "execution_count": 6,
   "metadata": {
    "collapsed": false
   },
   "outputs": [],
   "source": [
    "before_rentals = rental_dicts['rentals_06-02-2017.pkl']\n",
    "after_rentals  = rental_dicts['rentals_08-02-2017.pkl']"
   ]
  },
  {
   "cell_type": "code",
   "execution_count": 7,
   "metadata": {
    "collapsed": false,
    "scrolled": false
   },
   "outputs": [
    {
     "name": "stdout",
     "output_type": "stream",
     "text": [
      "\n"
     ]
    },
    {
     "data": {
      "image/png": "[encoded data removed]",
      "text/plain": [
       "<matplotlib.figure.Figure at 0xa31b668>"
      ]
     },
     "metadata": {},
     "output_type": "display_data"
    }
   ],
   "source": [
    "rentals = after_rentals\n",
    "def get_price(price):\n",
    "    price = ''.join(re.findall(\"\\d+\", price))\n",
    "    return int(price)\n",
    "\n",
    "price_list = [get_price(rental['price']) for rental in rentals]\n",
    "price_list = [price for price in price_list if price < 1000]\n",
    "plt.hist(price_list, bins=10)\n",
    "print"
   ]
  },
  {
   "cell_type": "code",
   "execution_count": 8,
   "metadata": {
    "collapsed": false
   },
   "outputs": [],
   "source": [
    "before_links = [rental['link'] for rental in before_rentals if get_price(rental['price']) < 300]\n",
    "rentals = [rental for rental in rentals if rental['link'] not in before_links]"
   ]
  },
  {
   "cell_type": "code",
   "execution_count": 9,
   "metadata": {
    "collapsed": false
   },
   "outputs": [],
   "source": [
    "pd.DataFrame.from_dict(rentals).to_csv(\"wellington_rentals.csv\", encoding='utf-8')"
   ]
  },
  {
   "cell_type": "code",
   "execution_count": 10,
   "metadata": {
    "collapsed": false
   },
   "outputs": [
    {
     "data": {
      "text/html": [
       "<div>\n",
       "<table border=\"1\" class=\"dataframe\">\n",
       "  <thead>\n",
       "    <tr style=\"text-align: right;\">\n",
       "      <th></th>\n",
       "      <th>available_date</th>\n",
       "      <th>bathrooms</th>\n",
       "      <th>bedrooms</th>\n",
       "      <th>contact</th>\n",
       "      <th>description</th>\n",
       "      <th>link</th>\n",
       "      <th>listdate</th>\n",
       "      <th>location</th>\n",
       "      <th>page_views</th>\n",
       "      <th>price</th>\n",
       "      <th>title</th>\n",
       "      <th>Available:</th>\n",
       "      <th>Furnishings:</th>\n",
       "      <th>Ideal tenants:</th>\n",
       "      <th>In the area:</th>\n",
       "      <th>Location:</th>\n",
       "      <th>Parking:</th>\n",
       "      <th>Property ID#:</th>\n",
       "      <th>Smoke alarm:</th>\n",
       "    </tr>\n",
       "  </thead>\n",
       "  <tbody>\n",
       "    <tr>\n",
       "      <th>0</th>\n",
       "      <td>Available Fri 3 Mar</td>\n",
       "      <td>1</td>\n",
       "      <td>2</td>\n",
       "      <td></td>\n",
       "      <td>2 bedroom unit with 1 bathroom.2 dbl brms with...</td>\n",
       "      <td>http://www.trademe.co.nz/property/residential-...</td>\n",
       "      <td>Listed Today</td>\n",
       "      <td>Manor Park, Lower Hutt</td>\n",
       "      <td>0015</td>\n",
       "      <td>$310 per week</td>\n",
       "      <td>20B McDougall Grove</td>\n",
       "      <td>Fri 3 Mar</td>\n",
       "      <td>NaN</td>\n",
       "      <td>Mature single or couple who love gardening.</td>\n",
       "      <td>Limited with Silverstre­am being the closest.</td>\n",
       "      <td>20B McDougall Grove\\nManor Park\\nLower Hutt\\nW...</td>\n",
       "      <td>Off street parking and garage available to sui...</td>\n",
       "      <td>FDT592</td>\n",
       "      <td>Yes</td>\n",
       "    </tr>\n",
       "    <tr>\n",
       "      <th>1</th>\n",
       "      <td>Available Sat 18 Feb</td>\n",
       "      <td>1</td>\n",
       "      <td>1</td>\n",
       "      <td>Mike Seagar</td>\n",
       "      <td>1 bedroom apartment with 1 bathroom.A modern, ...</td>\n",
       "      <td>http://www.trademe.co.nz/property/residential-...</td>\n",
       "      <td>Listed Today</td>\n",
       "      <td>Te Aro, Wellington</td>\n",
       "      <td>0170</td>\n",
       "      <td>$315 per week</td>\n",
       "      <td>402/15 Holland Street</td>\n",
       "      <td>Sat 18 Feb</td>\n",
       "      <td>Fully furnished, fridge with freezer compartme...</td>\n",
       "      <td>Reliable tenant(s) with proven renting record ...</td>\n",
       "      <td>Courtenay hospitalit­y precinct, CBD, retail, ...</td>\n",
       "      <td>402/15 Holland Street\\nTe Aro\\nWellington\\nWel...</td>\n",
       "      <td>Not applicable</td>\n",
       "      <td>FDT099</td>\n",
       "      <td>Yes</td>\n",
       "    </tr>\n",
       "    <tr>\n",
       "      <th>2</th>\n",
       "      <td>Available Sat 25 Feb</td>\n",
       "      <td>1</td>\n",
       "      <td>1</td>\n",
       "      <td>Quinovic Vivian St</td>\n",
       "      <td>1 bedroom apartment with 1 bathroom.This studi...</td>\n",
       "      <td>http://www.trademe.co.nz/property/residential-...</td>\n",
       "      <td>Listed Yesterday</td>\n",
       "      <td>Wellington Central, Wellington</td>\n",
       "      <td>0645</td>\n",
       "      <td>$295 per week</td>\n",
       "      <td>308/169 The Terrace</td>\n",
       "      <td>Sat 25 Feb</td>\n",
       "      <td>Oven, range hood, bar fridge, electric hob x 2...</td>\n",
       "      <td>NaN</td>\n",
       "      <td>NaN</td>\n",
       "      <td>308/169 The Terrace\\nWellington Central\\nWelli...</td>\n",
       "      <td>Not Specified</td>\n",
       "      <td>NaN</td>\n",
       "      <td>NaN</td>\n",
       "    </tr>\n",
       "    <tr>\n",
       "      <th>3</th>\n",
       "      <td>Available Tue 21 Feb</td>\n",
       "      <td>1</td>\n",
       "      <td>1</td>\n",
       "      <td></td>\n",
       "      <td>1 bedroom apartment with 1 bathroom.Compact 1 ...</td>\n",
       "      <td>http://www.trademe.co.nz/property/residential-...</td>\n",
       "      <td>Listed Yesterday</td>\n",
       "      <td>Lyall Bay, Wellington</td>\n",
       "      <td>0897</td>\n",
       "      <td>$285 per week</td>\n",
       "      <td>7/84 Freyberg Street</td>\n",
       "      <td>Tue 21 Feb</td>\n",
       "      <td>Fridge/Fre­ezer, Oven (with range hood), Washi...</td>\n",
       "      <td>Best suit single mature profession­al lady who...</td>\n",
       "      <td>3 min walk to Beach or bus   near airport,ca­f...</td>\n",
       "      <td>7/84 Freyberg Street\\nLyall Bay\\nWellington\\nW...</td>\n",
       "      <td>Free off street parking</td>\n",
       "      <td>FDQ498</td>\n",
       "      <td>Yes</td>\n",
       "    </tr>\n",
       "    <tr>\n",
       "      <th>4</th>\n",
       "      <td>Available Thu 16 Feb</td>\n",
       "      <td>1</td>\n",
       "      <td>1</td>\n",
       "      <td>Sheila Molnar</td>\n",
       "      <td>1 bedroom apartment with 1 bathroom.Courtyard ...</td>\n",
       "      <td>http://www.trademe.co.nz/property/residential-...</td>\n",
       "      <td>Listed Thu, 2 Feb</td>\n",
       "      <td>Wellington Central, Wellington</td>\n",
       "      <td>1324</td>\n",
       "      <td>$340 per week</td>\n",
       "      <td>N405A/28 Torrens Tce</td>\n",
       "      <td>Thu 16 Feb</td>\n",
       "      <td>Fridge, was­her/drier, dishdraw, leather couch...</td>\n",
       "      <td>Caring profession­al.</td>\n",
       "      <td>Cafes, restaurant­s, shops, theatres and all t...</td>\n",
       "      <td>N405A/28 Torrens Tce\\nWellington Central\\nWell...</td>\n",
       "      <td>Secure parking available for additional cost.</td>\n",
       "      <td>FDM614</td>\n",
       "      <td>NaN</td>\n",
       "    </tr>\n",
       "  </tbody>\n",
       "</table>\n",
       "</div>"
      ],
      "text/plain": [
       "         available_date bathrooms bedrooms             contact  \\\n",
       "0   Available Fri 3 Mar         1        2                       \n",
       "1  Available Sat 18 Feb         1        1         Mike Seagar   \n",
       "2  Available Sat 25 Feb         1        1  Quinovic Vivian St   \n",
       "3  Available Tue 21 Feb         1        1                       \n",
       "4  Available Thu 16 Feb         1        1       Sheila Molnar   \n",
       "\n",
       "                                         description  \\\n",
       "0  2 bedroom unit with 1 bathroom.2 dbl brms with...   \n",
       "1  1 bedroom apartment with 1 bathroom.A modern, ...   \n",
       "2  1 bedroom apartment with 1 bathroom.This studi...   \n",
       "3  1 bedroom apartment with 1 bathroom.Compact 1 ...   \n",
       "4  1 bedroom apartment with 1 bathroom.Courtyard ...   \n",
       "\n",
       "                                                link           listdate  \\\n",
       "0  http://www.trademe.co.nz/property/residential-...       Listed Today   \n",
       "1  http://www.trademe.co.nz/property/residential-...       Listed Today   \n",
       "2  http://www.trademe.co.nz/property/residential-...   Listed Yesterday   \n",
       "3  http://www.trademe.co.nz/property/residential-...   Listed Yesterday   \n",
       "4  http://www.trademe.co.nz/property/residential-...  Listed Thu, 2 Feb   \n",
       "\n",
       "                         location page_views          price  \\\n",
       "0          Manor Park, Lower Hutt       0015  $310 per week   \n",
       "1              Te Aro, Wellington       0170  $315 per week   \n",
       "2  Wellington Central, Wellington       0645  $295 per week   \n",
       "3           Lyall Bay, Wellington       0897  $285 per week   \n",
       "4  Wellington Central, Wellington       1324  $340 per week   \n",
       "\n",
       "                   title  Available:  \\\n",
       "0    20B McDougall Grove   Fri 3 Mar   \n",
       "1  402/15 Holland Street  Sat 18 Feb   \n",
       "2    308/169 The Terrace  Sat 25 Feb   \n",
       "3   7/84 Freyberg Street  Tue 21 Feb   \n",
       "4   N405A/28 Torrens Tce  Thu 16 Feb   \n",
       "\n",
       "                                        Furnishings:  \\\n",
       "0                                                NaN   \n",
       "1  Fully furnished, fridge with freezer compartme...   \n",
       "2  Oven, range hood, bar fridge, electric hob x 2...   \n",
       "3  Fridge/Fre­ezer, Oven (with range hood), Washi...   \n",
       "4  Fridge, was­her/drier, dishdraw, leather couch...   \n",
       "\n",
       "                                      Ideal tenants:  \\\n",
       "0        Mature single or couple who love gardening.   \n",
       "1  Reliable tenant(s) with proven renting record ...   \n",
       "2                                                NaN   \n",
       "3  Best suit single mature profession­al lady who...   \n",
       "4                              Caring profession­al.   \n",
       "\n",
       "                                        In the area:  \\\n",
       "0      Limited with Silverstre­am being the closest.   \n",
       "1  Courtenay hospitalit­y precinct, CBD, retail, ...   \n",
       "2                                                NaN   \n",
       "3  3 min walk to Beach or bus   near airport,ca­f...   \n",
       "4  Cafes, restaurant­s, shops, theatres and all t...   \n",
       "\n",
       "                                           Location:  \\\n",
       "0  20B McDougall Grove\\nManor Park\\nLower Hutt\\nW...   \n",
       "1  402/15 Holland Street\\nTe Aro\\nWellington\\nWel...   \n",
       "2  308/169 The Terrace\\nWellington Central\\nWelli...   \n",
       "3  7/84 Freyberg Street\\nLyall Bay\\nWellington\\nW...   \n",
       "4  N405A/28 Torrens Tce\\nWellington Central\\nWell...   \n",
       "\n",
       "                                            Parking: Property ID#:  \\\n",
       "0  Off street parking and garage available to sui...        FDT592   \n",
       "1                                     Not applicable        FDT099   \n",
       "2                                      Not Specified           NaN   \n",
       "3                            Free off street parking        FDQ498   \n",
       "4      Secure parking available for additional cost.        FDM614   \n",
       "\n",
       "  Smoke alarm:  \n",
       "0          Yes  \n",
       "1          Yes  \n",
       "2          NaN  \n",
       "3          Yes  \n",
       "4          NaN  "
      ]
     },
     "execution_count": 10,
     "metadata": {},
     "output_type": "execute_result"
    }
   ],
   "source": [
    "rental_df = pd.DataFrame.from_dict(rentals)\n",
    "table_df = pd.DataFrame.from_dict([rental['table'] for rental in rentals])\n",
    "rental_df = pd.concat([rental_df, table_df], axis=1)\n",
    "del rental_df['table']\n",
    "rental_df.head()"
   ]
  },
  {
   "cell_type": "code",
   "execution_count": 11,
   "metadata": {
    "collapsed": false
   },
   "outputs": [],
   "source": [
    "col_labels = ['title', 'price', 'available_date', 'listdate',\n",
    "              'link', 'location', 'Location:', 'contact',\n",
    "              'description', 'page_views', 'Available:',\n",
    "              'Furnishings:', 'Ideal tenants:', 'In the area:',\n",
    "              'Parking:', 'Property ID#:', 'Smoke alarm:',\n",
    "              'bathrooms', 'bedrooms']\n",
    "rental_df = rental_df[col_labels]"
   ]
  },
  {
   "cell_type": "code",
   "execution_count": 12,
   "metadata": {
    "collapsed": false
   },
   "outputs": [
    {
     "data": {
      "text/plain": [
       "['title',\n",
       " 'price',\n",
       " 'available_date',\n",
       " 'listdate',\n",
       " 'link',\n",
       " 'location',\n",
       " 'Location:',\n",
       " 'contact',\n",
       " 'description',\n",
       " 'page_views',\n",
       " 'Available:',\n",
       " 'Furnishings:',\n",
       " 'Ideal tenants:',\n",
       " 'In the area:',\n",
       " 'Parking:',\n",
       " 'Property ID#:',\n",
       " 'Smoke alarm:',\n",
       " 'bathrooms',\n",
       " 'bedrooms']"
      ]
     },
     "execution_count": 12,
     "metadata": {},
     "output_type": "execute_result"
    }
   ],
   "source": [
    "list(rental_df.columns)"
   ]
  },
  {
   "cell_type": "code",
   "execution_count": 13,
   "metadata": {
    "collapsed": false
   },
   "outputs": [],
   "source": [
    "rental_df['price'] = rental_df['price'].apply(get_price) "
   ]
  },
  {
   "cell_type": "code",
   "execution_count": 14,
   "metadata": {
    "collapsed": false
   },
   "outputs": [],
   "source": [
    "get_ints = lambda s: ''.join(re.findall(\"\\d+\", s))\n",
    "rental_df['page_views'] = rental_df['page_views'].apply(get_ints)\n",
    "rental_df['bathrooms']  = rental_df['bathrooms'].apply(get_ints)\n",
    "rental_df['bedrooms']   = rental_df['bedrooms'].apply(get_ints)"
   ]
  },
  {
   "cell_type": "code",
   "execution_count": 15,
   "metadata": {
    "collapsed": false
   },
   "outputs": [],
   "source": [
    "rental_df.to_csv(\"wellington_rentals.csv\", encoding='utf-8')"
   ]
  },
  {
   "cell_type": "markdown",
   "metadata": {},
   "source": [
    "# Looking up rentals list"
   ]
  },
  {
   "cell_type": "markdown",
   "metadata": {},
   "source": [
    "Now I am going to look through the cheaper places to get a sense for what is available."
   ]
  },
  {
   "cell_type": "code",
   "execution_count": 16,
   "metadata": {
    "collapsed": false
   },
   "outputs": [
    {
     "name": "stdout",
     "output_type": "stream",
     "text": [
      "There are 14 new cheap rental properties in Wellington\n",
      "\n",
      "3/48D Merton Street:\n",
      "http://www.trademe.co.nz/property/residential-property-to-rent/auction-1258317281.htm\n",
      "4/9 Totara Street:\n",
      "http://www.trademe.co.nz/property/residential-property-to-rent/auction-1258273196.htm\n",
      "Oriel Place:\n",
      "http://www.trademe.co.nz/property/residential-property-to-rent/auction-1257855322.htm\n",
      "329B Paekakariki hill road:\n",
      "http://www.trademe.co.nz/property/residential-property-to-rent/auction-1257702827.htm\n",
      "11/120 Randwick Road:\n",
      "http://www.trademe.co.nz/property/residential-property-to-rent/auction-1257531975.htm\n",
      "Left garage/58 Fairlie Street:\n",
      "http://www.trademe.co.nz/property/residential-property-to-rent/auction-1257459766.htm\n",
      "CP 3/244  The Terrace:\n",
      "http://www.trademe.co.nz/property/residential-property-to-rent/auction-1257458530.htm\n",
      "1/6 Rimu Road:\n",
      "http://www.trademe.co.nz/property/residential-property-to-rent/auction-1257454046.htm\n",
      "22 Hawker Street:\n",
      "http://www.trademe.co.nz/property/residential-property-to-rent/auction-1257562349.htm\n",
      "124 Willis Street:\n",
      "http://www.trademe.co.nz/property/residential-property-to-rent/auction-1258395239.htm\n",
      "124 Willis Street:\n",
      "http://www.trademe.co.nz/property/residential-property-to-rent/auction-1258395461.htm\n",
      "134 Britomart Street:\n",
      "http://www.trademe.co.nz/property/residential-property-to-rent/auction-1257501599.htm\n",
      "124 Willis Street:\n",
      "http://www.trademe.co.nz/property/residential-property-to-rent/auction-1258396690.htm\n",
      "124 Willis Street:\n",
      "http://www.trademe.co.nz/property/residential-property-to-rent/auction-1258396801.htm\n"
     ]
    }
   ],
   "source": [
    "cheap_rentals = [rental for rental in rentals if get_price(rental['price']) < 250]\n",
    "print(\"There are %d new cheap rental properties in Wellington\\n\" %len(cheap_rentals))\n",
    "for rental in cheap_rentals:\n",
    "    print(\"%s:\" %rental['title'])\n",
    "    print(rental['link'])"
   ]
  },
  {
   "cell_type": "code",
   "execution_count": 17,
   "metadata": {
    "collapsed": false
   },
   "outputs": [
    {
     "data": {
      "text/html": [
       "<div>\n",
       "<table border=\"1\" class=\"dataframe\">\n",
       "  <thead>\n",
       "    <tr style=\"text-align: right;\">\n",
       "      <th></th>\n",
       "      <th>Title</th>\n",
       "      <th>Location</th>\n",
       "      <th>Price</th>\n",
       "      <th>Link</th>\n",
       "    </tr>\n",
       "  </thead>\n",
       "  <tbody>\n",
       "    <tr>\n",
       "      <th>0</th>\n",
       "      <td>20B McDougall Grove</td>\n",
       "      <td>Manor Park, Lower Hutt</td>\n",
       "      <td>310</td>\n",
       "      <td>http://www.trademe.co.nz/property/residential-...</td>\n",
       "    </tr>\n",
       "    <tr>\n",
       "      <th>1</th>\n",
       "      <td>402/15 Holland Street</td>\n",
       "      <td>Te Aro, Wellington</td>\n",
       "      <td>315</td>\n",
       "      <td>http://www.trademe.co.nz/property/residential-...</td>\n",
       "    </tr>\n",
       "    <tr>\n",
       "      <th>2</th>\n",
       "      <td>308/169 The Terrace</td>\n",
       "      <td>Wellington Central, Wellington</td>\n",
       "      <td>295</td>\n",
       "      <td>http://www.trademe.co.nz/property/residential-...</td>\n",
       "    </tr>\n",
       "    <tr>\n",
       "      <th>3</th>\n",
       "      <td>7/84 Freyberg Street</td>\n",
       "      <td>Lyall Bay, Wellington</td>\n",
       "      <td>285</td>\n",
       "      <td>http://www.trademe.co.nz/property/residential-...</td>\n",
       "    </tr>\n",
       "    <tr>\n",
       "      <th>4</th>\n",
       "      <td>N405A/28 Torrens Tce</td>\n",
       "      <td>Wellington Central, Wellington</td>\n",
       "      <td>340</td>\n",
       "      <td>http://www.trademe.co.nz/property/residential-...</td>\n",
       "    </tr>\n",
       "  </tbody>\n",
       "</table>\n",
       "</div>"
      ],
      "text/plain": [
       "                   Title                        Location  Price  \\\n",
       "0    20B McDougall Grove          Manor Park, Lower Hutt    310   \n",
       "1  402/15 Holland Street              Te Aro, Wellington    315   \n",
       "2    308/169 The Terrace  Wellington Central, Wellington    295   \n",
       "3   7/84 Freyberg Street           Lyall Bay, Wellington    285   \n",
       "4   N405A/28 Torrens Tce  Wellington Central, Wellington    340   \n",
       "\n",
       "                                                Link  \n",
       "0  http://www.trademe.co.nz/property/residential-...  \n",
       "1  http://www.trademe.co.nz/property/residential-...  \n",
       "2  http://www.trademe.co.nz/property/residential-...  \n",
       "3  http://www.trademe.co.nz/property/residential-...  \n",
       "4  http://www.trademe.co.nz/property/residential-...  "
      ]
     },
     "execution_count": 17,
     "metadata": {},
     "output_type": "execute_result"
    }
   ],
   "source": [
    "price_data = pd.DataFrame([(rental['title'], \n",
    "                            rental['location'],\n",
    "                            get_price(rental['price']),\n",
    "                            rental['link']) for rental in rentals], \n",
    "                          columns=[\"Title\", \"Location\", \"Price\", \"Link\"])\n",
    "price_data.head()"
   ]
  },
  {
   "cell_type": "code",
   "execution_count": 18,
   "metadata": {
    "collapsed": false
   },
   "outputs": [
    {
     "name": "stdout",
     "output_type": "stream",
     "text": [
      "There are 26 cheap rentals in Wellington\n"
     ]
    },
    {
     "data": {
      "text/html": [
       "<div>\n",
       "<table border=\"1\" class=\"dataframe\">\n",
       "  <thead>\n",
       "    <tr style=\"text-align: right;\">\n",
       "      <th></th>\n",
       "      <th>Title</th>\n",
       "      <th>Location</th>\n",
       "      <th>Price</th>\n",
       "      <th>Link</th>\n",
       "    </tr>\n",
       "  </thead>\n",
       "  <tbody>\n",
       "    <tr>\n",
       "      <th>48</th>\n",
       "      <td>CP 3/244  The Terrace</td>\n",
       "      <td>Te Aro, Wellington</td>\n",
       "      <td>45</td>\n",
       "      <td>http://www.trademe.co.nz/property/residential-...</td>\n",
       "    </tr>\n",
       "    <tr>\n",
       "      <th>47</th>\n",
       "      <td>Left garage/58 Fairlie Street</td>\n",
       "      <td>Kelburn, Wellington</td>\n",
       "      <td>45</td>\n",
       "      <td>http://www.trademe.co.nz/property/residential-...</td>\n",
       "    </tr>\n",
       "    <tr>\n",
       "      <th>113</th>\n",
       "      <td>134 Britomart Street</td>\n",
       "      <td>Berhampore, Wellington</td>\n",
       "      <td>160</td>\n",
       "      <td>http://www.trademe.co.nz/property/residential-...</td>\n",
       "    </tr>\n",
       "    <tr>\n",
       "      <th>101</th>\n",
       "      <td>22 Hawker Street</td>\n",
       "      <td>Mount Victoria, Wellington</td>\n",
       "      <td>190</td>\n",
       "      <td>http://www.trademe.co.nz/property/residential-...</td>\n",
       "    </tr>\n",
       "    <tr>\n",
       "      <th>35</th>\n",
       "      <td>Oriel Place</td>\n",
       "      <td>Redwood, Wellington</td>\n",
       "      <td>190</td>\n",
       "      <td>http://www.trademe.co.nz/property/residential-...</td>\n",
       "    </tr>\n",
       "  </tbody>\n",
       "</table>\n",
       "</div>"
      ],
      "text/plain": [
       "                             Title                    Location  Price  \\\n",
       "48           CP 3/244  The Terrace          Te Aro, Wellington     45   \n",
       "47   Left garage/58 Fairlie Street         Kelburn, Wellington     45   \n",
       "113           134 Britomart Street      Berhampore, Wellington    160   \n",
       "101               22 Hawker Street  Mount Victoria, Wellington    190   \n",
       "35                     Oriel Place         Redwood, Wellington    190   \n",
       "\n",
       "                                                  Link  \n",
       "48   http://www.trademe.co.nz/property/residential-...  \n",
       "47   http://www.trademe.co.nz/property/residential-...  \n",
       "113  http://www.trademe.co.nz/property/residential-...  \n",
       "101  http://www.trademe.co.nz/property/residential-...  \n",
       "35   http://www.trademe.co.nz/property/residential-...  "
      ]
     },
     "execution_count": 18,
     "metadata": {},
     "output_type": "execute_result"
    }
   ],
   "source": [
    "price_data.sort_values('Price', ascending=True, inplace=True)\n",
    "cheap_data = price_data[price_data['Price'] < 300]\n",
    "print(\"There are %d cheap rentals in Wellington\" %len(cheap_data))\n",
    "cheap_data.head()"
   ]
  },
  {
   "cell_type": "code",
   "execution_count": 19,
   "metadata": {
    "collapsed": false
   },
   "outputs": [
    {
     "data": {
      "text/plain": [
       "Wellington Central, Wellington    8\n",
       "Brooklyn, Wellington              2\n",
       "Moera, Lower Hutt                 1\n",
       "Otaki, Kapiti Coast               1\n",
       "Mount Victoria, Wellington        1\n",
       "Elsdon, Porirua                   1\n",
       "Island Bay, Wellington            1\n",
       "Lyall Bay, Wellington             1\n",
       "Upper Hutt, Upper Hutt            1\n",
       "Northland, Wellington             1\n",
       "Pauatahanui, Porirua              1\n",
       "Redwood, Wellington               1\n",
       "Kelburn, Wellington               1\n",
       "Berhampore, Wellington            1\n",
       "Te Aro, Wellington                1\n",
       "Paraparaumu, Kapiti Coast         1\n",
       "Taita, Lower Hutt                 1\n",
       "Trentham, Upper Hutt              1\n",
       "Name: Location, dtype: int64"
      ]
     },
     "execution_count": 19,
     "metadata": {},
     "output_type": "execute_result"
    }
   ],
   "source": [
    "cheap_data.Location.value_counts()"
   ]
  },
  {
   "cell_type": "code",
   "execution_count": 20,
   "metadata": {
    "collapsed": false
   },
   "outputs": [
    {
     "name": "stdout",
     "output_type": "stream",
     "text": [
      "http://www.trademe.co.nz/property/residential-property-to-rent/auction-1257458530.htm\n",
      "http://www.trademe.co.nz/property/residential-property-to-rent/auction-1257459766.htm\n",
      "http://www.trademe.co.nz/property/residential-property-to-rent/auction-1257501599.htm\n",
      "http://www.trademe.co.nz/property/residential-property-to-rent/auction-1257562349.htm\n",
      "http://www.trademe.co.nz/property/residential-property-to-rent/auction-1257855322.htm\n",
      "http://www.trademe.co.nz/property/residential-property-to-rent/auction-1257702827.htm\n",
      "http://www.trademe.co.nz/property/residential-property-to-rent/auction-1258395461.htm\n",
      "http://www.trademe.co.nz/property/residential-property-to-rent/auction-1258395239.htm\n",
      "http://www.trademe.co.nz/property/residential-property-to-rent/auction-1257531975.htm\n",
      "http://www.trademe.co.nz/property/residential-property-to-rent/auction-1258396801.htm\n",
      "http://www.trademe.co.nz/property/residential-property-to-rent/auction-1258396690.htm\n",
      "http://www.trademe.co.nz/property/residential-property-to-rent/auction-1258273196.htm\n",
      "http://www.trademe.co.nz/property/residential-property-to-rent/auction-1258317281.htm\n",
      "http://www.trademe.co.nz/property/residential-property-to-rent/auction-1257454046.htm\n",
      "http://www.trademe.co.nz/property/residential-property-to-rent/auction-1257548968.htm\n",
      "http://www.trademe.co.nz/property/residential-property-to-rent/auction-1257571573.htm\n",
      "http://www.trademe.co.nz/property/residential-property-to-rent/auction-1258395682.htm\n",
      "http://www.trademe.co.nz/property/residential-property-to-rent/auction-1258395348.htm\n",
      "http://www.trademe.co.nz/property/residential-property-to-rent/auction-1258311812.htm\n",
      "http://www.trademe.co.nz/property/residential-property-to-rent/auction-1258319865.htm\n",
      "http://www.trademe.co.nz/property/residential-property-to-rent/auction-1258244032.htm\n",
      "http://www.trademe.co.nz/property/residential-property-to-rent/auction-1258396027.htm\n",
      "http://www.trademe.co.nz/property/residential-property-to-rent/auction-1257229991.htm\n",
      "http://www.trademe.co.nz/property/residential-property-to-rent/auction-1257648157.htm\n",
      "http://www.trademe.co.nz/property/residential-property-to-rent/auction-1258345160.htm\n",
      "http://www.trademe.co.nz/property/residential-property-to-rent/auction-1257575844.htm\n"
     ]
    }
   ],
   "source": [
    "for link in cheap_data['Link']:\n",
    "    print(link)"
   ]
  },
  {
   "cell_type": "code",
   "execution_count": null,
   "metadata": {
    "collapsed": true
   },
   "outputs": [],
   "source": []
  },
  {
   "cell_type": "code",
   "execution_count": null,
   "metadata": {
    "collapsed": true
   },
   "outputs": [],
   "source": []
  },
  {
   "cell_type": "code",
   "execution_count": null,
   "metadata": {
    "collapsed": true
   },
   "outputs": [],
   "source": []
  },
  {
   "cell_type": "code",
   "execution_count": null,
   "metadata": {
    "collapsed": true
   },
   "outputs": [],
   "source": []
  },
  {
   "cell_type": "code",
   "execution_count": null,
   "metadata": {
    "collapsed": true
   },
   "outputs": [],
   "source": []
  },
  {
   "cell_type": "code",
   "execution_count": null,
   "metadata": {
    "collapsed": true
   },
   "outputs": [],
   "source": []
  },
  {
   "cell_type": "code",
   "execution_count": null,
   "metadata": {
    "collapsed": true
   },
   "outputs": [],
   "source": []
  }
 ],
 "metadata": {
  "anaconda-cloud": {},
  "kernelspec": {
   "display_name": "Python [conda root]",
   "language": "python",
   "name": "conda-root-py"
  },
  "language_info": {
   "codemirror_mode": {
    "name": "ipython",
    "version": 2
   },
   "file_extension": ".py",
   "mimetype": "text/x-python",
   "name": "python",
   "nbconvert_exporter": "python",
   "pygments_lexer": "ipython2",
   "version": "2.7.12"
  }
 },
 "nbformat": 4,
 "nbformat_minor": 1
}
